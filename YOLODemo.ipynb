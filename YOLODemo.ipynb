{
 "cells": [
  {
   "attachments": {},
   "cell_type": "markdown",
   "metadata": {},
   "source": [
    "# A Demonstration of Object Detection Using the YOLOv8 Object Detection Model\n",
    "### Anthony Gorman\n",
    "Object Detection has been in the forefront of computer science research since artificial intelligence emerged in the 1960's. With recent developments in open-source computer vision models, understanding and deploying object detection is easier than ever. In this demonstration, we will attempt to deploy the state-of-the-art object detection model You Only Look Once (YOLO) version 8 from Ultralytics\n",
    "\n",
    "## Pre-requisites\n",
    "Before we begin deploying YOLO (or any object detection model for that matter), it is important that we consider creating a virtual environment. A virtual environment is a special container for python modules that protects the user from dependency errors. In this tutorial, we will use Miniconda. The documentation for installing Miniconda can be found [here](https://docs.conda.io/en/latest/miniconda.html#installing). This tutorial will assume that you are utilizing Miniconda in a Unix terminal.\n",
    "\n",
    "Once Miniconda is installed, you can create a python environment for YOLO by running the following command in your terminal.\n",
    "\n",
    "```conda create --name yolo```\n",
    "\n",
    "then you can enter into the environment by running\n",
    "\n",
    "```conda activate yolo```\n",
    "\n",
    "You will need to reopen this notebook in the environent. The method of doing this will depend on the software you are using for Jupyter Notebooks. For [reference](https://towardsdatascience.com/python-virtual-environments-jupyter-notebook-bb5820d11da8). \n",
    "\n",
    "Now you can install the necessary prerequisites for YOLOv8 by running the box below"
   ]
  },
  {
   "cell_type": "code",
   "execution_count": 6,
   "metadata": {},
   "outputs": [
    {
     "name": "stdout",
     "output_type": "stream",
     "text": [
      "Requirement already satisfied: torch in /home/anthony/.local/lib/python3.10/site-packages (1.13.1)\n",
      "Requirement already satisfied: nvidia-cuda-nvrtc-cu11==11.7.99 in /home/anthony/.local/lib/python3.10/site-packages (from torch) (11.7.99)\n",
      "Requirement already satisfied: nvidia-cuda-runtime-cu11==11.7.99 in /home/anthony/.local/lib/python3.10/site-packages (from torch) (11.7.99)\n",
      "Requirement already satisfied: typing-extensions in /home/anthony/.local/lib/python3.10/site-packages (from torch) (4.4.0)\n",
      "Requirement already satisfied: nvidia-cudnn-cu11==8.5.0.96 in /home/anthony/.local/lib/python3.10/site-packages (from torch) (8.5.0.96)\n",
      "Requirement already satisfied: nvidia-cublas-cu11==11.10.3.66 in /home/anthony/.local/lib/python3.10/site-packages (from torch) (11.10.3.66)\n",
      "Requirement already satisfied: setuptools in /home/anthony/miniconda3/envs/test/lib/python3.10/site-packages (from nvidia-cublas-cu11==11.10.3.66->torch) (65.6.3)\n",
      "Requirement already satisfied: wheel in /home/anthony/miniconda3/envs/test/lib/python3.10/site-packages (from nvidia-cublas-cu11==11.10.3.66->torch) (0.37.1)\n",
      "Note: you may need to restart the kernel to use updated packages.\n",
      "Requirement already satisfied: numpy in /home/anthony/.local/lib/python3.10/site-packages (1.24.1)\n",
      "Note: you may need to restart the kernel to use updated packages.\n",
      "Requirement already satisfied: ultralytics in /home/anthony/.local/lib/python3.10/site-packages (8.0.26)\n",
      "Requirement already satisfied: Pillow>=7.1.2 in /home/anthony/miniconda3/envs/test/lib/python3.10/site-packages (from ultralytics) (9.4.0)\n",
      "Requirement already satisfied: tqdm>=4.64.0 in /home/anthony/.local/lib/python3.10/site-packages (from ultralytics) (4.64.1)\n",
      "Requirement already satisfied: ipython in /home/anthony/.local/lib/python3.10/site-packages (from ultralytics) (8.9.0)\n",
      "Requirement already satisfied: opencv-python>=4.6.0 in /home/anthony/.local/lib/python3.10/site-packages (from ultralytics) (4.7.0.68)\n",
      "Requirement already satisfied: sentry-sdk in /home/anthony/.local/lib/python3.10/site-packages (from ultralytics) (1.14.0)\n",
      "Requirement already satisfied: numpy>=1.18.5 in /home/anthony/.local/lib/python3.10/site-packages (from ultralytics) (1.24.1)\n",
      "Requirement already satisfied: torch>=1.7.0 in /home/anthony/.local/lib/python3.10/site-packages (from ultralytics) (1.13.1)\n",
      "Requirement already satisfied: requests>=2.23.0 in /home/anthony/miniconda3/envs/test/lib/python3.10/site-packages (from ultralytics) (2.28.2)\n",
      "Requirement already satisfied: pandas>=1.1.4 in /home/anthony/.local/lib/python3.10/site-packages (from ultralytics) (1.5.3)\n",
      "Requirement already satisfied: scipy>=1.4.1 in /home/anthony/.local/lib/python3.10/site-packages (from ultralytics) (1.10.0)\n",
      "Requirement already satisfied: tensorboard>=2.4.1 in /home/anthony/.local/lib/python3.10/site-packages (from ultralytics) (2.11.2)\n",
      "Requirement already satisfied: seaborn>=0.11.0 in /home/anthony/.local/lib/python3.10/site-packages (from ultralytics) (0.12.2)\n",
      "Requirement already satisfied: psutil in /home/anthony/miniconda3/envs/test/lib/python3.10/site-packages (from ultralytics) (5.9.4)\n",
      "Requirement already satisfied: PyYAML>=5.3.1 in /home/anthony/miniconda3/envs/test/lib/python3.10/site-packages (from ultralytics) (6.0)\n",
      "Requirement already satisfied: matplotlib>=3.2.2 in /home/anthony/.local/lib/python3.10/site-packages (from ultralytics) (3.6.3)\n",
      "Requirement already satisfied: torchvision>=0.8.1 in /home/anthony/.local/lib/python3.10/site-packages (from ultralytics) (0.14.1)\n",
      "Requirement already satisfied: thop>=0.1.1 in /home/anthony/.local/lib/python3.10/site-packages (from ultralytics) (0.1.1.post2209072238)\n",
      "Requirement already satisfied: pyparsing>=2.2.1 in /home/anthony/miniconda3/envs/test/lib/python3.10/site-packages (from matplotlib>=3.2.2->ultralytics) (3.0.9)\n",
      "Requirement already satisfied: contourpy>=1.0.1 in /home/anthony/.local/lib/python3.10/site-packages (from matplotlib>=3.2.2->ultralytics) (1.0.7)\n",
      "Requirement already satisfied: fonttools>=4.22.0 in /home/anthony/.local/lib/python3.10/site-packages (from matplotlib>=3.2.2->ultralytics) (4.38.0)\n",
      "Requirement already satisfied: kiwisolver>=1.0.1 in /home/anthony/.local/lib/python3.10/site-packages (from matplotlib>=3.2.2->ultralytics) (1.4.4)\n",
      "Requirement already satisfied: python-dateutil>=2.7 in /home/anthony/.local/lib/python3.10/site-packages (from matplotlib>=3.2.2->ultralytics) (2.8.2)\n",
      "Requirement already satisfied: cycler>=0.10 in /home/anthony/.local/lib/python3.10/site-packages (from matplotlib>=3.2.2->ultralytics) (0.11.0)\n",
      "Requirement already satisfied: packaging>=20.0 in /home/anthony/miniconda3/envs/test/lib/python3.10/site-packages (from matplotlib>=3.2.2->ultralytics) (23.0)\n",
      "Requirement already satisfied: pytz>=2020.1 in /home/anthony/miniconda3/envs/test/lib/python3.10/site-packages (from pandas>=1.1.4->ultralytics) (2022.7.1)\n",
      "Requirement already satisfied: certifi>=2017.4.17 in /home/anthony/miniconda3/envs/test/lib/python3.10/site-packages (from requests>=2.23.0->ultralytics) (2022.12.7)\n",
      "Requirement already satisfied: charset-normalizer<4,>=2 in /home/anthony/miniconda3/envs/test/lib/python3.10/site-packages (from requests>=2.23.0->ultralytics) (3.0.1)\n",
      "Requirement already satisfied: urllib3<1.27,>=1.21.1 in /home/anthony/.local/lib/python3.10/site-packages (from requests>=2.23.0->ultralytics) (1.26.14)\n",
      "Requirement already satisfied: idna<4,>=2.5 in /home/anthony/miniconda3/envs/test/lib/python3.10/site-packages (from requests>=2.23.0->ultralytics) (3.4)\n",
      "Requirement already satisfied: markdown>=2.6.8 in /home/anthony/.local/lib/python3.10/site-packages (from tensorboard>=2.4.1->ultralytics) (3.4.1)\n",
      "Requirement already satisfied: setuptools>=41.0.0 in /home/anthony/miniconda3/envs/test/lib/python3.10/site-packages (from tensorboard>=2.4.1->ultralytics) (65.6.3)\n",
      "Requirement already satisfied: google-auth<3,>=1.6.3 in /home/anthony/.local/lib/python3.10/site-packages (from tensorboard>=2.4.1->ultralytics) (2.16.0)\n",
      "Requirement already satisfied: tensorboard-plugin-wit>=1.6.0 in /home/anthony/.local/lib/python3.10/site-packages (from tensorboard>=2.4.1->ultralytics) (1.8.1)\n",
      "Requirement already satisfied: wheel>=0.26 in /home/anthony/miniconda3/envs/test/lib/python3.10/site-packages (from tensorboard>=2.4.1->ultralytics) (0.37.1)\n",
      "Requirement already satisfied: google-auth-oauthlib<0.5,>=0.4.1 in /home/anthony/.local/lib/python3.10/site-packages (from tensorboard>=2.4.1->ultralytics) (0.4.6)\n",
      "Requirement already satisfied: protobuf<4,>=3.9.2 in /home/anthony/miniconda3/envs/test/lib/python3.10/site-packages (from tensorboard>=2.4.1->ultralytics) (3.20.3)\n",
      "Requirement already satisfied: tensorboard-data-server<0.7.0,>=0.6.0 in /home/anthony/.local/lib/python3.10/site-packages (from tensorboard>=2.4.1->ultralytics) (0.6.1)\n",
      "Requirement already satisfied: werkzeug>=1.0.1 in /home/anthony/.local/lib/python3.10/site-packages (from tensorboard>=2.4.1->ultralytics) (2.2.2)\n",
      "Requirement already satisfied: grpcio>=1.24.3 in /home/anthony/miniconda3/envs/test/lib/python3.10/site-packages (from tensorboard>=2.4.1->ultralytics) (1.51.1)\n",
      "Requirement already satisfied: absl-py>=0.4 in /home/anthony/.local/lib/python3.10/site-packages (from tensorboard>=2.4.1->ultralytics) (1.4.0)\n",
      "Requirement already satisfied: nvidia-cuda-nvrtc-cu11==11.7.99 in /home/anthony/.local/lib/python3.10/site-packages (from torch>=1.7.0->ultralytics) (11.7.99)\n",
      "Requirement already satisfied: typing-extensions in /home/anthony/.local/lib/python3.10/site-packages (from torch>=1.7.0->ultralytics) (4.4.0)\n",
      "Requirement already satisfied: nvidia-cublas-cu11==11.10.3.66 in /home/anthony/.local/lib/python3.10/site-packages (from torch>=1.7.0->ultralytics) (11.10.3.66)\n",
      "Requirement already satisfied: nvidia-cuda-runtime-cu11==11.7.99 in /home/anthony/.local/lib/python3.10/site-packages (from torch>=1.7.0->ultralytics) (11.7.99)\n",
      "Requirement already satisfied: nvidia-cudnn-cu11==8.5.0.96 in /home/anthony/.local/lib/python3.10/site-packages (from torch>=1.7.0->ultralytics) (8.5.0.96)\n",
      "Requirement already satisfied: matplotlib-inline in /home/anthony/.local/lib/python3.10/site-packages (from ipython->ultralytics) (0.1.6)\n",
      "Requirement already satisfied: pickleshare in /home/anthony/.local/lib/python3.10/site-packages (from ipython->ultralytics) (0.7.5)\n",
      "Requirement already satisfied: backcall in /home/anthony/.local/lib/python3.10/site-packages (from ipython->ultralytics) (0.2.0)\n",
      "Requirement already satisfied: pygments>=2.4.0 in /home/anthony/.local/lib/python3.10/site-packages (from ipython->ultralytics) (2.14.0)\n",
      "Requirement already satisfied: traitlets>=5 in /home/anthony/.local/lib/python3.10/site-packages (from ipython->ultralytics) (5.9.0)\n",
      "Requirement already satisfied: prompt-toolkit<3.1.0,>=3.0.30 in /home/anthony/.local/lib/python3.10/site-packages (from ipython->ultralytics) (3.0.36)\n",
      "Requirement already satisfied: pexpect>4.3 in /home/anthony/miniconda3/envs/test/lib/python3.10/site-packages (from ipython->ultralytics) (4.8.0)\n",
      "Requirement already satisfied: jedi>=0.16 in /home/anthony/.local/lib/python3.10/site-packages (from ipython->ultralytics) (0.18.2)\n",
      "Requirement already satisfied: stack-data in /home/anthony/.local/lib/python3.10/site-packages (from ipython->ultralytics) (0.6.2)\n",
      "Requirement already satisfied: decorator in /home/anthony/.local/lib/python3.10/site-packages (from ipython->ultralytics) (5.1.1)\n",
      "Requirement already satisfied: rsa<5,>=3.1.4 in /home/anthony/.local/lib/python3.10/site-packages (from google-auth<3,>=1.6.3->tensorboard>=2.4.1->ultralytics) (4.9)\n",
      "Requirement already satisfied: cachetools<6.0,>=2.0.0 in /home/anthony/.local/lib/python3.10/site-packages (from google-auth<3,>=1.6.3->tensorboard>=2.4.1->ultralytics) (5.3.0)\n",
      "Requirement already satisfied: pyasn1-modules>=0.2.1 in /home/anthony/.local/lib/python3.10/site-packages (from google-auth<3,>=1.6.3->tensorboard>=2.4.1->ultralytics) (0.2.8)\n",
      "Requirement already satisfied: six>=1.9.0 in /home/anthony/miniconda3/envs/test/lib/python3.10/site-packages (from google-auth<3,>=1.6.3->tensorboard>=2.4.1->ultralytics) (1.16.0)\n",
      "Requirement already satisfied: requests-oauthlib>=0.7.0 in /home/anthony/.local/lib/python3.10/site-packages (from google-auth-oauthlib<0.5,>=0.4.1->tensorboard>=2.4.1->ultralytics) (1.3.1)\n",
      "Requirement already satisfied: parso<0.9.0,>=0.8.0 in /home/anthony/.local/lib/python3.10/site-packages (from jedi>=0.16->ipython->ultralytics) (0.8.3)\n",
      "Requirement already satisfied: ptyprocess>=0.5 in /home/anthony/miniconda3/envs/test/lib/python3.10/site-packages (from pexpect>4.3->ipython->ultralytics) (0.7.0)\n",
      "Requirement already satisfied: wcwidth in /home/anthony/.local/lib/python3.10/site-packages (from prompt-toolkit<3.1.0,>=3.0.30->ipython->ultralytics) (0.2.6)\n",
      "Requirement already satisfied: MarkupSafe>=2.1.1 in /home/anthony/.local/lib/python3.10/site-packages (from werkzeug>=1.0.1->tensorboard>=2.4.1->ultralytics) (2.1.2)\n",
      "Requirement already satisfied: asttokens>=2.1.0 in /home/anthony/.local/lib/python3.10/site-packages (from stack-data->ipython->ultralytics) (2.2.1)\n",
      "Requirement already satisfied: executing>=1.2.0 in /home/anthony/.local/lib/python3.10/site-packages (from stack-data->ipython->ultralytics) (1.2.0)\n",
      "Requirement already satisfied: pure-eval in /home/anthony/.local/lib/python3.10/site-packages (from stack-data->ipython->ultralytics) (0.2.2)\n",
      "Requirement already satisfied: pyasn1<0.5.0,>=0.4.6 in /home/anthony/.local/lib/python3.10/site-packages (from pyasn1-modules>=0.2.1->google-auth<3,>=1.6.3->tensorboard>=2.4.1->ultralytics) (0.4.8)\n",
      "Requirement already satisfied: oauthlib>=3.0.0 in /home/anthony/miniconda3/envs/test/lib/python3.10/site-packages (from requests-oauthlib>=0.7.0->google-auth-oauthlib<0.5,>=0.4.1->tensorboard>=2.4.1->ultralytics) (3.2.2)\n",
      "Note: you may need to restart the kernel to use updated packages.\n"
     ]
    }
   ],
   "source": [
    "%pip install torch\n",
    "%pip install numpy\n",
    "%pip install ultralytics"
   ]
  },
  {
   "attachments": {},
   "cell_type": "markdown",
   "metadata": {},
   "source": [
    "With that, you are ready to begin writing python scripts with YOLO!\n",
    "\n",
    "The code cells below will act as both a demonstration and reference for the YOLOv8 model\n",
    "\n",
    "## Imports\n",
    "Run the following code block to import the modules neccessary for YOLO"
   ]
  },
  {
   "cell_type": "code",
   "execution_count": 7,
   "metadata": {},
   "outputs": [],
   "source": [
    "import torch\n",
    "import numpy as np # Linear Algebra\n",
    "from ultralytics import YOLO"
   ]
  },
  {
   "attachments": {},
   "cell_type": "markdown",
   "metadata": {},
   "source": [
    "Accessing the YOLOv8 model in python is very straightforward"
   ]
  },
  {
   "cell_type": "code",
   "execution_count": 8,
   "metadata": {},
   "outputs": [],
   "source": [
    "model = YOLO('yolov8s.pt') # or yolov8n etc."
   ]
  },
  {
   "attachments": {},
   "cell_type": "markdown",
   "metadata": {},
   "source": [
    "This is a pre-trained model that Ultralytics provides. For beginners, this is the model to use. Training the YOLOv8 model yourself is possible and is discussed in the Ultralytics YOLOv8 documentation."
   ]
  },
  {
   "attachments": {},
   "cell_type": "markdown",
   "metadata": {},
   "source": [
    "## Inference\n",
    "There are many ways to inference using the YOLOv8 model. For a quick reference, you can use Ultralytics' YOLOv8 documentation found [here](https://docs.ultralytics.com/python/). In this case, we will predict using a filepath.\n",
    "\n",
    "If you cloned this repository there should be a directory named 'images' with an example photo. Otherwise, you can create your own directory and insert a photo of your own with objects in it to detect. For the sake of understanding, you will probably want to stick to a photo with one object that is easily identifiable. Now run the cell below"
   ]
  },
  {
   "cell_type": "code",
   "execution_count": 9,
   "metadata": {},
   "outputs": [
    {
     "name": "stderr",
     "output_type": "stream",
     "text": [
      "Ultralytics YOLOv8.0.26 🚀 Python-3.10.9 torch-1.13.1+cu117 CPU\n",
      "YOLOv8s summary (fused): 168 layers, 11156544 parameters, 0 gradients, 28.6 GFLOPs\n",
      "\n",
      "image 1/1 /home/anthony/SULI/models/YOLODemo/images/example.jpg: 544x640 1 truck, 184.4ms\n",
      "Speed: 0.8ms pre-process, 184.4ms inference, 0.9ms postprocess per image at shape (1, 3, 640, 640)\n"
     ]
    }
   ],
   "source": [
    "results = model.predict(source='images/example.jpg')"
   ]
  },
  {
   "attachments": {},
   "cell_type": "markdown",
   "metadata": {},
   "source": [
    "Let's take a look at some of the results that were returned from the prediction method. "
   ]
  },
  {
   "cell_type": "code",
   "execution_count": 10,
   "metadata": {},
   "outputs": [
    {
     "name": "stdout",
     "output_type": "stream",
     "text": [
      "[[        127          95         316         289     0.90787           7]]\n"
     ]
    }
   ],
   "source": [
    "for result in results:\n",
    "    print(result.boxes.data.numpy().astype(float))"
   ]
  },
  {
   "attachments": {},
   "cell_type": "markdown",
   "metadata": {},
   "source": [
    "Don't panic. As you review Ultralytics' documentation and use YOLOv8 more frequently you will become more comfortable with the results object generated by the prediction method. The numbers in the array above are in the following format:\n",
    "* Each row is an object detected by YOLO represented by a box\n",
    "* The first column is x1 (The left side of the box)\n",
    "* Column 2 is y1 (The top of the box)\n",
    "* Columns 3 and 4 are x2 (right) and y2 (bottom) respectively\n",
    "* Column 5 is the confidence score of the prediction\n",
    "* Column 6 is the class. (for example 2 means a car)\n",
    "\n",
    "Congratulations! If you have made it this far you have successfully deployed YOLOv8. With time and experimentation, you will be able to tackle more complicated uses of YOLO such as visualization or multiple photo detections."
   ]
  }
 ],
 "metadata": {
  "kernelspec": {
   "display_name": "test",
   "language": "python",
   "name": "python3"
  },
  "language_info": {
   "codemirror_mode": {
    "name": "ipython",
    "version": 3
   },
   "file_extension": ".py",
   "mimetype": "text/x-python",
   "name": "python",
   "nbconvert_exporter": "python",
   "pygments_lexer": "ipython3",
   "version": "3.10.9"
  },
  "orig_nbformat": 4,
  "vscode": {
   "interpreter": {
    "hash": "07d8359c0efdb8529228ca34e17a06baa313b70b6798b97324a54abf0286a897"
   }
  }
 },
 "nbformat": 4,
 "nbformat_minor": 2
}
